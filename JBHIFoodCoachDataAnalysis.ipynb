{
 "cells": [
  {
   "attachments": {},
   "cell_type": "markdown",
   "metadata": {},
   "source": [
    "### Data comparison\n",
    "normality test: shapiro when n <= 50, else D’Agostino’s K^2 test \n",
    "report: median(iqr), since all ofcoms are not normally distributed\n",
    "comparison:\n",
    "unrelated: mann-whitney u\n",
    "related: Wilcoxon signed-rank test"
   ]
  },
  {
   "cell_type": "code",
   "execution_count": 1,
   "metadata": {},
   "outputs": [],
   "source": [
    "\n",
    "#import libraries\n",
    "import pandas as pd\n",
    "import os\n",
    "import utils"
   ]
  },
  {
   "attachments": {},
   "cell_type": "markdown",
   "metadata": {},
   "source": [
    "### Read files"
   ]
  },
  {
   "cell_type": "code",
   "execution_count": 2,
   "metadata": {},
   "outputs": [],
   "source": [
    "# gives the path\n",
    "path = os.path.realpath(\"BAMParsedCsvProcessor.ipynb\")\n",
    "dir = os.path.dirname(path)\n",
    "dir = dir.replace('scripts', 'input_data')\n",
    "  \n",
    "# read the user_data.csv and graphdb data\n",
    "FC2022_user_data = pd.read_csv(dir + \"/230328_FC2022_user_data.csv\")\n",
    "\n",
    "FC2022_graphdb_data = pd.read_csv(dir +\"/graphdb_data/230328_FC2022_GraphDB.csv\")\n",
    "FC2022_graphdb_data  = FC2022_graphdb_data.rename(columns ={\"externalId\": \"external_id\"})\n",
    "\n",
    "#calculate the actual energy in kcal\n",
    "FC2022_graphdb_data[\"actual_energy_kcal\"] = FC2022_graphdb_data.productSize/100 * FC2022_graphdb_data.energyKcalValue\n",
    "\n",
    "\n",
    "dietcoach_categories = pd.read_csv(dir + \"/eatfit_dietcoach_categories.csv\")\n"
   ]
  },
  {
   "attachments": {},
   "cell_type": "markdown",
   "metadata": {},
   "source": [
    "### Clean the data"
   ]
  },
  {
   "cell_type": "code",
   "execution_count": 3,
   "metadata": {},
   "outputs": [
    {
     "name": "stdout",
     "output_type": "stream",
     "text": [
      "176 participants joined the study after 2022-11-09 15pm (1668002400),\n",
      " and finished 9 weeks\". \n",
      " \n",
      " Experiment participants: 92\n",
      "\n",
      " Control participants: 84\n"
     ]
    }
   ],
   "source": [
    "cleaned_user_data = utils.clean_user_data(FC2022_user_data, 1668002400)\n",
    "print(f\"\"\"{cleaned_user_data.shape[0]} participants joined the study after 2022-11-09 15pm (1668002400),\n",
    " and finished 9 weeks\". \n",
    " \n",
    " Experiment participants: {cleaned_user_data[cleaned_user_data.type == \"Experiment\"].shape[0]}\n",
    "\n",
    " Control participants: {cleaned_user_data[cleaned_user_data.type == \"Control\"].shape[0]}\"\"\")"
   ]
  },
  {
   "attachments": {},
   "cell_type": "markdown",
   "metadata": {},
   "source": [
    "### Merge surveys with receipts"
   ]
  },
  {
   "cell_type": "code",
   "execution_count": 4,
   "metadata": {},
   "outputs": [
    {
     "name": "stdout",
     "output_type": "stream",
     "text": [
      "\n",
      "Total users with data: 62\n",
      "\n",
      "\n",
      "After filtering out experiment users who did not verify their email:\n",
      "Total users with data: 61\n",
      "\n",
      "\n",
      "After filtering out users who did not donate their receipts:\n",
      "Control users with data: 33\n",
      "Experiment users with data: 28\n",
      "\n"
     ]
    }
   ],
   "source": [
    "\n",
    "# merge receipts with survey\n",
    "FC2022_graphdb_data_with_survey = FC2022_graphdb_data.merge(cleaned_user_data, how = \"inner\", on=\"external_id\")\n",
    "print(f\"\"\"\n",
    "Total users with data: {len(FC2022_graphdb_data_with_survey.external_id.unique())}\n",
    "\"\"\")\n",
    "      \n",
    "# exclude experiment participants who never verified their email account, i.e., never logged into the app\n",
    "valid_FC2022_graphdb_data_with_survey = FC2022_graphdb_data_with_survey[~((FC2022_graphdb_data_with_survey.type == \"Experiment\")&(FC2022_graphdb_data_with_survey.verified == 0))]\n",
    "\n",
    "print(f\"\"\"\n",
    "After filtering out experiment users who did not verify their email:\n",
    "Total users with data: {len(valid_FC2022_graphdb_data_with_survey.external_id.unique())}\n",
    "\"\"\")\n",
    "      \n",
    "\n",
    "control_graphdb_data_with_survey = valid_FC2022_graphdb_data_with_survey[valid_FC2022_graphdb_data_with_survey.type == \"Control\"]\n",
    "experiment_graphdb_data_with_survey = valid_FC2022_graphdb_data_with_survey[valid_FC2022_graphdb_data_with_survey.type == \"Experiment\"]\n",
    "\n",
    "\n",
    "\n",
    "print(f\"\"\"\n",
    "After filtering out users who did not donate their receipts:\n",
    "Control users with data: {len(control_graphdb_data_with_survey.external_id.unique())}\n",
    "Experiment users with data: {len(experiment_graphdb_data_with_survey.external_id.unique())}\n",
    "\"\"\")\n",
    "      \n",
    "\n",
    "\n"
   ]
  },
  {
   "attachments": {},
   "cell_type": "markdown",
   "metadata": {},
   "source": [
    "### Export valid users list for analyzing post-study surveys"
   ]
  },
  {
   "cell_type": "code",
   "execution_count": 5,
   "metadata": {},
   "outputs": [],
   "source": [
    "\n",
    "valid_FC2022_users_with_survey_ids = valid_FC2022_graphdb_data_with_survey.loc[:, ('bamId', 'external_id','type', \"post_survey_id\")].drop_duplicates()\n",
    "\n",
    "# valid_FC2022_users_with_survey_ids.to_csv(\"230328_valid_FC2022_users_with_survey_ids.csv\", index = False)\n"
   ]
  },
  {
   "cell_type": "code",
   "execution_count": 7,
   "metadata": {},
   "outputs": [
    {
     "data": {
      "text/plain": [
       "(61, 4)"
      ]
     },
     "execution_count": 7,
     "metadata": {},
     "output_type": "execute_result"
    }
   ],
   "source": [
    "valid_FC2022_users_with_survey_ids.shape"
   ]
  },
  {
   "attachments": {},
   "cell_type": "markdown",
   "metadata": {},
   "source": [
    "### Check data in the last month"
   ]
  },
  {
   "cell_type": "code",
   "execution_count": 8,
   "metadata": {},
   "outputs": [
    {
     "name": "stdout",
     "output_type": "stream",
     "text": [
      "(285210, 49) (0, 49)\n"
     ]
    },
    {
     "data": {
      "text/plain": [
       "(61, 0)"
      ]
     },
     "execution_count": 8,
     "metadata": {},
     "output_type": "execute_result"
    }
   ],
   "source": [
    "utils.get_valid_users_with_last_xd_data(valid_FC2022_graphdb_data_with_survey, 45)"
   ]
  },
  {
   "cell_type": "code",
   "execution_count": 9,
   "metadata": {},
   "outputs": [],
   "source": [
    "# get valid surveys and separate control surveys and experiment surveys\n",
    "surveys = utils.get_valid_onboarding_survey(cleaned_user_data)\n",
    "valid_surveys = utils.get_valid_onboarding_survey(valid_FC2022_graphdb_data_with_survey)\n",
    "valid_control_surveys = valid_surveys[valid_surveys.usertype == \"Control\"]\n",
    "valid_experiment_surveys = valid_surveys[valid_surveys.usertype == \"Experiment\"]\n"
   ]
  },
  {
   "attachments": {},
   "cell_type": "markdown",
   "metadata": {},
   "source": [
    "### Get the sample demographics data"
   ]
  },
  {
   "cell_type": "code",
   "execution_count": 10,
   "metadata": {},
   "outputs": [],
   "source": [
    "#get the demographics\n",
    "overall_median_iqr_summary, overall_value_count_summary = utils.get_demographic_summary(valid_surveys)\n",
    "control_median_iqr_summary, control_value_count_summary = utils.get_demographic_summary(valid_control_surveys)\n",
    "experiment_median_iqr_summary, experiment_value_count_summary = utils.get_demographic_summary(valid_experiment_surveys)"
   ]
  },
  {
   "cell_type": "code",
   "execution_count": 11,
   "metadata": {},
   "outputs": [
    {
     "data": {
      "text/plain": [
       "{'loyaltyCards':         loyaltyCards_count  loyaltyCards (%)\n",
       " both                    37         60.655738\n",
       " migros                  14         22.950820\n",
       " coop                    10         16.393443,\n",
       " 'gender':         gender_count  gender (%)\n",
       " Female            34   55.737705\n",
       " Male              27   44.262295,\n",
       " 'fromSanitas':        fromSanitas_count  fromSanitas (%)\n",
       " True                  48        78.688525\n",
       " False                 13        21.311475,\n",
       " 'historyApps':                        historyApps_count  historyApps (%)\n",
       "                                       48        78.688525\n",
       " Lifesum                                4         6.557377\n",
       " Yazio                                  3         4.918033\n",
       " MyFitnessPal                           2         3.278689\n",
       " Fddb                                   1         1.639344\n",
       " Lifsum                                 1         1.639344\n",
       " MyFitnesspal                           1         1.639344\n",
       " Lifesum, MyFitnessPal                  1         1.639344,\n",
       " 'currentlyUsingOtherApps':        currentlyUsingOtherApps_count  currentlyUsingOtherApps (%)\n",
       " False                             55                    90.163934\n",
       " True                               6                     9.836066,\n",
       " 'currentOtherApps':               currentOtherApps_count  currentOtherApps (%)\n",
       "                                   55             90.163934\n",
       " MyFitnessPal                       2              3.278689\n",
       " Yazio                              2              3.278689\n",
       " Lifesum                            1              1.639344\n",
       " Samsung                            1              1.639344,\n",
       " 'disorders':                                   disorders_count  disorders (%)\n",
       " [None of the above]                            52      85.245902\n",
       " [Obesity]                                       4       6.557377\n",
       " [Other]                                         3       4.918033\n",
       " [Obesity, Arterial hypertension]                1       1.639344\n",
       " [Arterial hypertension]                         1       1.639344,\n",
       " 'allergiesAndAbstentions':                                                     allergiesAndAbstentions_count  \\\n",
       " {'allergies': [], 'abstentions': []}                                           35   \n",
       " {'allergies': [], 'abstentions': ['Fish', 'Crus...                              5   \n",
       " {'allergies': [], 'abstentions': ['Eggs', 'Fish...                              2   \n",
       " {'allergies': ['Milk'], 'abstentions': ['Milk']}                                2   \n",
       " {'allergies': [], 'abstentions': ['Crustaceans'...                              2   \n",
       " {'allergies': [], 'abstentions': ['Milk']}                                      2   \n",
       " {'allergies': [], 'abstentions': ['Crustaceans'...                              1   \n",
       " {'allergies': [], 'abstentions': ['Sulphites', ...                              1   \n",
       " {'allergies': [], 'abstentions': ['Eggs', 'Sesa...                              1   \n",
       " {'allergies': ['Fish', 'Crustaceans', 'Molluscs...                              1   \n",
       " {'allergies': [], 'abstentions': ['Fish', 'Crus...                              1   \n",
       " {'allergies': [], 'abstentions': ['Crustaceans'...                              1   \n",
       " {'allergies': ['Peanuts'], 'abstentions': []}                                   1   \n",
       " {'allergies': [], 'abstentions': ['Fish', 'Moll...                              1   \n",
       " {'allergies': ['Gluten', 'Milk'], 'abstentions'...                              1   \n",
       " {'allergies': ['Eggs', 'Milk'], 'abstentions': []}                              1   \n",
       " {'allergies': ['Gluten'], 'abstentions': ['Glut...                              1   \n",
       " {'allergies': ['Fish', 'Crustaceans'], 'abstent...                              1   \n",
       " {'allergies': ['Sulphites'], 'abstentions': ['S...                              1   \n",
       " \n",
       "                                                     allergiesAndAbstentions (%)  \n",
       " {'allergies': [], 'abstentions': []}                                  57.377049  \n",
       " {'allergies': [], 'abstentions': ['Fish', 'Crus...                     8.196721  \n",
       " {'allergies': [], 'abstentions': ['Eggs', 'Fish...                     3.278689  \n",
       " {'allergies': ['Milk'], 'abstentions': ['Milk']}                       3.278689  \n",
       " {'allergies': [], 'abstentions': ['Crustaceans'...                     3.278689  \n",
       " {'allergies': [], 'abstentions': ['Milk']}                             3.278689  \n",
       " {'allergies': [], 'abstentions': ['Crustaceans'...                     1.639344  \n",
       " {'allergies': [], 'abstentions': ['Sulphites', ...                     1.639344  \n",
       " {'allergies': [], 'abstentions': ['Eggs', 'Sesa...                     1.639344  \n",
       " {'allergies': ['Fish', 'Crustaceans', 'Molluscs...                     1.639344  \n",
       " {'allergies': [], 'abstentions': ['Fish', 'Crus...                     1.639344  \n",
       " {'allergies': [], 'abstentions': ['Crustaceans'...                     1.639344  \n",
       " {'allergies': ['Peanuts'], 'abstentions': []}                          1.639344  \n",
       " {'allergies': [], 'abstentions': ['Fish', 'Moll...                     1.639344  \n",
       " {'allergies': ['Gluten', 'Milk'], 'abstentions'...                     1.639344  \n",
       " {'allergies': ['Eggs', 'Milk'], 'abstentions': []}                     1.639344  \n",
       " {'allergies': ['Gluten'], 'abstentions': ['Glut...                     1.639344  \n",
       " {'allergies': ['Fish', 'Crustaceans'], 'abstent...                     1.639344  \n",
       " {'allergies': ['Sulphites'], 'abstentions': ['S...                     1.639344  ,\n",
       " 'meat':        meat_count   meat (%)\n",
       " True           45  73.770492\n",
       " False          16  26.229508,\n",
       " 'otherDiseases':                                                 otherDiseases_count  \\\n",
       "                                                                  58   \n",
       " Fodmap Unvertrglichkeit                                           1   \n",
       " Theroidale Entgleisung, Fettstoffwechselstrung                    1   \n",
       " ADHS                                                              1   \n",
       " \n",
       "                                                 otherDiseases (%)  \n",
       "                                                         95.081967  \n",
       " Fodmap Unvertrglichkeit                                  1.639344  \n",
       " Theroidale Entgleisung, Fettstoffwechselstrung           1.639344  \n",
       " ADHS                                                     1.639344  ,\n",
       " 'activityLevelAtWork':                       activityLevelAtWork_count  activityLevelAtWork (%)\n",
       " sedentary                                    24                39.344262\n",
       " exclusivelySedentary                         21                34.426230\n",
       " goingStanding                                16                26.229508,\n",
       " 'sports':      sports_count  sports (%)\n",
       " 2-3            24   39.344262\n",
       " 4+             18   29.508197\n",
       " 1              12   19.672131\n",
       " <1              5    8.196721\n",
       " 0               2    3.278689,\n",
       " 'education':                 education_count  education (%)\n",
       " university                   25      40.983607\n",
       " high                         18      29.508197\n",
       " apprenticeship               16      26.229508\n",
       " obligatory                    2       3.278689,\n",
       " 'householdIncome':                       householdIncome_count  householdIncome (%)\n",
       " 40000 - 80000 CHF                        15            24.590164\n",
       " 80000 - 120000 CHF                       13            21.311475\n",
       " 120000 - 160000 CHF                      11            18.032787\n",
       " prefer not to answer                      8            13.114754\n",
       " <= 40000 CHF                              6             9.836066\n",
       " > 200000 CHF                              5             8.196721\n",
       " 160000 - 200000 CHF                       3             4.918033,\n",
       " 'binned_bmi':               binned_bmi_count  binned_bmi(%)\n",
       " (18.5, 25.0]                38      62.295082\n",
       " (25.0, 30.0]                18      29.508197\n",
       " (30.0, inf]                  5       8.196721\n",
       " (0.0, 18.5]                  0       0.000000}"
      ]
     },
     "execution_count": 11,
     "metadata": {},
     "output_type": "execute_result"
    }
   ],
   "source": [
    "overall_value_count_summary"
   ]
  },
  {
   "cell_type": "code",
   "execution_count": 12,
   "metadata": {},
   "outputs": [
    {
     "data": {
      "text/html": [
       "<div>\n",
       "<style scoped>\n",
       "    .dataframe tbody tr th:only-of-type {\n",
       "        vertical-align: middle;\n",
       "    }\n",
       "\n",
       "    .dataframe tbody tr th {\n",
       "        vertical-align: top;\n",
       "    }\n",
       "\n",
       "    .dataframe thead th {\n",
       "        text-align: right;\n",
       "    }\n",
       "</style>\n",
       "<table border=\"1\" class=\"dataframe\">\n",
       "  <thead>\n",
       "    <tr style=\"text-align: right;\">\n",
       "      <th></th>\n",
       "      <th>count</th>\n",
       "      <th>median</th>\n",
       "      <th>IQR</th>\n",
       "    </tr>\n",
       "  </thead>\n",
       "  <tbody>\n",
       "    <tr>\n",
       "      <th>bmi</th>\n",
       "      <td>61</td>\n",
       "      <td>23.5</td>\n",
       "      <td>4.8</td>\n",
       "    </tr>\n",
       "    <tr>\n",
       "      <th>percShoppingMigros</th>\n",
       "      <td>61</td>\n",
       "      <td>50.0</td>\n",
       "      <td>60.0</td>\n",
       "    </tr>\n",
       "    <tr>\n",
       "      <th>percShoppingCoop</th>\n",
       "      <td>61</td>\n",
       "      <td>30.0</td>\n",
       "      <td>58.0</td>\n",
       "    </tr>\n",
       "    <tr>\n",
       "      <th>usageMigros</th>\n",
       "      <td>61</td>\n",
       "      <td>99.0</td>\n",
       "      <td>20.0</td>\n",
       "    </tr>\n",
       "    <tr>\n",
       "      <th>usageCoop</th>\n",
       "      <td>61</td>\n",
       "      <td>95.0</td>\n",
       "      <td>80.0</td>\n",
       "    </tr>\n",
       "    <tr>\n",
       "      <th>percFruits</th>\n",
       "      <td>61</td>\n",
       "      <td>80.0</td>\n",
       "      <td>74.0</td>\n",
       "    </tr>\n",
       "    <tr>\n",
       "      <th>percVegetables</th>\n",
       "      <td>61</td>\n",
       "      <td>80.0</td>\n",
       "      <td>70.0</td>\n",
       "    </tr>\n",
       "    <tr>\n",
       "      <th>percProteinFoods</th>\n",
       "      <td>61</td>\n",
       "      <td>90.0</td>\n",
       "      <td>65.0</td>\n",
       "    </tr>\n",
       "    <tr>\n",
       "      <th>percProcessedFoods</th>\n",
       "      <td>61</td>\n",
       "      <td>80.0</td>\n",
       "      <td>85.0</td>\n",
       "    </tr>\n",
       "    <tr>\n",
       "      <th>percCarbs</th>\n",
       "      <td>61</td>\n",
       "      <td>90.0</td>\n",
       "      <td>70.0</td>\n",
       "    </tr>\n",
       "    <tr>\n",
       "      <th>percOils</th>\n",
       "      <td>61</td>\n",
       "      <td>90.0</td>\n",
       "      <td>90.0</td>\n",
       "    </tr>\n",
       "    <tr>\n",
       "      <th>percBeverages</th>\n",
       "      <td>61</td>\n",
       "      <td>50.0</td>\n",
       "      <td>88.0</td>\n",
       "    </tr>\n",
       "    <tr>\n",
       "      <th>loyaltyShareAdults</th>\n",
       "      <td>61</td>\n",
       "      <td>2.0</td>\n",
       "      <td>0.0</td>\n",
       "    </tr>\n",
       "    <tr>\n",
       "      <th>loyaltyShareKids</th>\n",
       "      <td>61</td>\n",
       "      <td>0.0</td>\n",
       "      <td>0.0</td>\n",
       "    </tr>\n",
       "    <tr>\n",
       "      <th>loyaltyShareTeens</th>\n",
       "      <td>61</td>\n",
       "      <td>0.0</td>\n",
       "      <td>0.0</td>\n",
       "    </tr>\n",
       "    <tr>\n",
       "      <th>age</th>\n",
       "      <td>61</td>\n",
       "      <td>33.2</td>\n",
       "      <td>11.0</td>\n",
       "    </tr>\n",
       "    <tr>\n",
       "      <th>household_size</th>\n",
       "      <td>61</td>\n",
       "      <td>2.0</td>\n",
       "      <td>1.0</td>\n",
       "    </tr>\n",
       "  </tbody>\n",
       "</table>\n",
       "</div>"
      ],
      "text/plain": [
       "                   count median   IQR\n",
       "bmi                   61   23.5   4.8\n",
       "percShoppingMigros    61   50.0  60.0\n",
       "percShoppingCoop      61   30.0  58.0\n",
       "usageMigros           61   99.0  20.0\n",
       "usageCoop             61   95.0  80.0\n",
       "percFruits            61   80.0  74.0\n",
       "percVegetables        61   80.0  70.0\n",
       "percProteinFoods      61   90.0  65.0\n",
       "percProcessedFoods    61   80.0  85.0\n",
       "percCarbs             61   90.0  70.0\n",
       "percOils              61   90.0  90.0\n",
       "percBeverages         61   50.0  88.0\n",
       "loyaltyShareAdults    61    2.0   0.0\n",
       "loyaltyShareKids      61    0.0   0.0\n",
       "loyaltyShareTeens     61    0.0   0.0\n",
       "age                   61   33.2  11.0\n",
       "household_size        61    2.0   1.0"
      ]
     },
     "execution_count": 12,
     "metadata": {},
     "output_type": "execute_result"
    }
   ],
   "source": [
    "overall_median_iqr_summary"
   ]
  },
  {
   "attachments": {},
   "cell_type": "markdown",
   "metadata": {},
   "source": [
    "### Between group and within group ofcom comparisons"
   ]
  },
  {
   "cell_type": "code",
   "execution_count": 13,
   "metadata": {},
   "outputs": [
    {
     "name": "stdout",
     "output_type": "stream",
     "text": [
      "OfComValue\n",
      "    num_users  is_normal  median/mean  iqr/std\n",
      "0          53      False          5.5      6.6\n",
      "1          29      False          6.2      6.5\n",
      "2          24      False          4.7      7.0\n",
      "3          52      False          5.0      7.8\n",
      "4          28      False          4.5      9.3\n",
      "5          24      False          5.0      6.3\n",
      "6          50      False          5.4      8.4\n",
      "7          27      False          6.1      8.7\n",
      "8          23      False          3.3      8.2\n",
      "9          42      False          6.0      7.0\n",
      "10         21      False          5.9      4.8\n",
      "11         21      False          6.1     11.8\n",
      "-------\n",
      "[]\n",
      "-------\n",
      "[('T0 control', 'T1 control', False, 0.30549813024041295), ('T0 control', 'T2 control', False, 0.10232187258757604), ('T0 control', 'T3 control', False, 0.3765220642089844), ('T0 experiment', 'T1 experiment', False, 0.20015525817871094), ('T0 experiment', 'T2 experiment', False, 0.2428417205810547), ('T0 experiment', 'T3 experiment', False, 0.47490501403808594), ('T0 control', 'T0 experiment', False, 0.3438264845204514), ('T1 control', 'T1 experiment', False, 0.3068572512624397), ('T2 control', 'T3 experiment', False, 0.31262656747074924), ('T3 control', 'T3 experiment', False, 0.3765860385485225)]\n",
      "-------\n"
     ]
    }
   ],
   "source": [
    "# Check whether there are significant differents bewteen ofcom values of 2 groups\n",
    "ofcom_field_ls = ['OfComValue']\n",
    "# , 'ofComNSalt', 'ofComNSaturatedFat',\n",
    "#        'ofComNSugar', 'ofComPDietaryFiber', 'ofComPFVPN', 'ofComPProtein'\n",
    "for ofcom_field in ofcom_field_ls:\n",
    "    ofcom_median_iqr, ofcom_dfs = utils.get_ofcom_group_specific_data(valid_FC2022_graphdb_data_with_survey, ofcom_field)\n",
    "    significant_diff, insignificant_diff = utils.ofcom_comparisons(ofcom_dfs)\n",
    "    print(f\"{ofcom_field}\")\n",
    "    print(f\"{ofcom_median_iqr}\")\n",
    "    print(f\"-------\")\n",
    "    print(f\"{significant_diff}\")\n",
    "    print(f\"-------\")\n",
    "    print(f\"{insignificant_diff}\")\n",
    "    print(f\"-------\")\n",
    "    # print(f\"\"\"\n",
    "    # {ofcom_field} significant results: {significant_diff}\n",
    "    # Insignificant results: {insignificant_diff}\"\"\")\n"
   ]
  },
  {
   "cell_type": "code",
   "execution_count": null,
   "metadata": {},
   "outputs": [],
   "source": []
  }
 ],
 "metadata": {
  "kernelspec": {
   "display_name": "mingming",
   "language": "python",
   "name": "python3"
  },
  "language_info": {
   "codemirror_mode": {
    "name": "ipython",
    "version": 3
   },
   "file_extension": ".py",
   "mimetype": "text/x-python",
   "name": "python",
   "nbconvert_exporter": "python",
   "pygments_lexer": "ipython3",
   "version": "3.8.8"
  },
  "orig_nbformat": 4,
  "vscode": {
   "interpreter": {
    "hash": "7817626aaee24689eff92dfa334973b5fe9e48b708b7eaad6e8e0a7326941674"
   }
  }
 },
 "nbformat": 4,
 "nbformat_minor": 2
}
