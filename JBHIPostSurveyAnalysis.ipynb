{
 "cells": [
  {
   "cell_type": "code",
   "execution_count": 1,
   "metadata": {},
   "outputs": [],
   "source": [
    "\n",
    "#library\n",
    "import pandas as pd\n",
    "import os"
   ]
  },
  {
   "attachments": {},
   "cell_type": "markdown",
   "metadata": {},
   "source": [
    "### Read files"
   ]
  },
  {
   "cell_type": "code",
   "execution_count": 2,
   "metadata": {},
   "outputs": [],
   "source": [
    "\n",
    "# gives the path\n",
    "path = os.path.realpath(\"PostSurveyAnalysis.ipynb\")\n",
    "dir = os.path.dirname(path)\n",
    "\n",
    "# read the user_data.csv and graphdb data\n",
    "surveys_en_long = pd.read_csv(dir.replace('scripts', 'input_data') + \"/qualtrics_data/230328_FoodCoach_English_long.csv\", header = 1)\n",
    "surveys_de_long = pd.read_csv(dir.replace('scripts', 'input_data') + \"/qualtrics_data/230328_FoodCoach_German_long.csv\", header = 1)\n",
    "\n",
    "\n",
    "valid_FC2022_users_with_survey_ids = pd.read_csv(dir.replace('scripts', 'output') + \"/230328_valid_FC2022_users_with_survey_ids.csv\")\n",
    "\n"
   ]
  },
  {
   "cell_type": "code",
   "execution_count": 3,
   "metadata": {},
   "outputs": [],
   "source": [
    "def clean_surveys(df, valid_survey_ids):\n",
    "    \"\"\"\n",
    "    It cleans the survey and keeps the relevant columns for further analysis.\n",
    "    \"\"\"\n",
    "    # rename columns\n",
    "    for col in df.columns:\n",
    "        df.rename(columns={col : col.split(\" - \")[0] }, inplace=True)\n",
    "\n",
    "    # rename columns if necessary\n",
    "    if 'heigt_and_weight_1' in df.columns:\n",
    "\n",
    "        df.rename(columns = {'heigt_and_weight_1': \"height_and_weight_1\"}, inplace= True)\n",
    "    \n",
    "    if 'heigt_and_weight_2' in df.columns:\n",
    "\n",
    "        df.rename(columns = {'heigt_and_weight_2': \"height_and_weight_2\"}, inplace= True)\n",
    "\n",
    "\n",
    "    # only keep rows with externalDataReference or ExternalReference\n",
    "    if 'externalDataReference' in df.columns:\n",
    "        df = df[~df.externalDataReference.isna()]\n",
    "    \n",
    "    if 'ExternalReference' in df.columns:\n",
    "        df = df[~df.ExternalReference.isna()]\n",
    "    \n",
    "    # Use dropna() with axis=1 to drop columns where there are no values\n",
    "    # df = df.dropna(axis=1, how=\"all\")\n",
    "\n",
    "    # Only keep surveys where more than 50% are answered\n",
    "    if 'progress' in df.columns:\n",
    "        df = df[pd.to_numeric(df.progress)  >= 50]\n",
    "\n",
    "    if 'Progress' in df.columns:\n",
    "        df = df[pd.to_numeric(df.Progress)  >= 50]\n",
    "\n",
    "    # only keep certain columns, ['interface_satisfaction'] exists in en but not de\n",
    "    df = df.loc[:, ('Recorded Date', 'External Data Reference', \n",
    "                         'height_and_weight_1',\n",
    "       'height_and_weight_2', 'ease_of_use_use', 'ease_of_use_learn',\n",
    "       'ease_of_use_navigation', 'ease_of_use_function', 'ease_of_use_recover',\n",
    "       'interface_like', 'interface_info', 'interface_progress',\n",
    "       'interface_comfortable', 'interface_time', 'interface_reuse',\n",
    "        'usefulness_nutrition', 'usefulness_access',\n",
    "       'usefulness_management', 'usefulness_function', 'usefulness_cache',\n",
    "       'usefulness_service')]\n",
    "\n",
    "    # Only keep surveys that belong to valid FC2022 users\n",
    "    df = df[pd.to_numeric(df[\"External Data Reference\"]).isin(valid_survey_ids)]\n",
    "\n",
    "    return df\n"
   ]
  },
  {
   "cell_type": "code",
   "execution_count": 4,
   "metadata": {},
   "outputs": [],
   "source": [
    "#Clean surveys and merge the en and de ones\n",
    "valid_FC2022_survey_ids = valid_FC2022_users_with_survey_ids.post_survey_id\n",
    "cleaned_surveys_en_long = clean_surveys(surveys_en_long, valid_FC2022_survey_ids)\n",
    "cleaned_surveys_de_long = clean_surveys(surveys_de_long, valid_FC2022_survey_ids)\n",
    "\n",
    "experiment_surveys = pd.concat([cleaned_surveys_de_long, cleaned_surveys_en_long], axis = 0)"
   ]
  },
  {
   "cell_type": "code",
   "execution_count": 11,
   "metadata": {},
   "outputs": [
    {
     "data": {
      "text/plain": [
       "External Data Reference    2092.6\n",
       "height_and_weight_1         179.1\n",
       "ease_of_use_use               4.8\n",
       "ease_of_use_learn             4.8\n",
       "ease_of_use_navigation        5.0\n",
       "ease_of_use_function          4.6\n",
       "ease_of_use_recover           4.4\n",
       "interface_like                4.3\n",
       "interface_info                4.4\n",
       "interface_progress            3.4\n",
       "interface_comfortable         4.2\n",
       "interface_time                4.8\n",
       "interface_reuse               3.4\n",
       "usefulness_nutrition          3.6\n",
       "usefulness_access             3.2\n",
       "usefulness_management         2.9\n",
       "usefulness_function           2.9\n",
       "usefulness_cache              4.3\n",
       "usefulness_service            3.2\n",
       "dtype: float64"
      ]
     },
     "execution_count": 11,
     "metadata": {},
     "output_type": "execute_result"
    }
   ],
   "source": [
    "# Display the averages\n",
    "experiment_surveys.mean().round(1)"
   ]
  },
  {
   "cell_type": "code",
   "execution_count": 12,
   "metadata": {},
   "outputs": [
    {
     "data": {
      "text/plain": [
       "External Data Reference    73.0\n",
       "height_and_weight_1        11.3\n",
       "ease_of_use_use             1.2\n",
       "ease_of_use_learn           1.5\n",
       "ease_of_use_navigation      1.5\n",
       "ease_of_use_function        1.3\n",
       "ease_of_use_recover         1.4\n",
       "interface_like              1.7\n",
       "interface_info              1.2\n",
       "interface_progress          1.9\n",
       "interface_comfortable       1.5\n",
       "interface_time              1.8\n",
       "interface_reuse             1.8\n",
       "usefulness_nutrition        2.2\n",
       "usefulness_access           1.8\n",
       "usefulness_management       1.5\n",
       "usefulness_function         1.7\n",
       "usefulness_cache            1.2\n",
       "usefulness_service          1.6\n",
       "dtype: float64"
      ]
     },
     "execution_count": 12,
     "metadata": {},
     "output_type": "execute_result"
    }
   ],
   "source": [
    "#Display the stds\n",
    "experiment_surveys.std().round(1)"
   ]
  },
  {
   "cell_type": "code",
   "execution_count": 9,
   "metadata": {},
   "outputs": [
    {
     "data": {
      "text/plain": [
       "(9, 21)"
      ]
     },
     "execution_count": 9,
     "metadata": {},
     "output_type": "execute_result"
    }
   ],
   "source": [
    "experiment_surveys.shape"
   ]
  },
  {
   "cell_type": "code",
   "execution_count": null,
   "metadata": {},
   "outputs": [],
   "source": []
  }
 ],
 "metadata": {
  "kernelspec": {
   "display_name": "mingming",
   "language": "python",
   "name": "python3"
  },
  "language_info": {
   "codemirror_mode": {
    "name": "ipython",
    "version": 3
   },
   "file_extension": ".py",
   "mimetype": "text/x-python",
   "name": "python",
   "nbconvert_exporter": "python",
   "pygments_lexer": "ipython3",
   "version": "3.8.8"
  },
  "orig_nbformat": 4,
  "vscode": {
   "interpreter": {
    "hash": "7817626aaee24689eff92dfa334973b5fe9e48b708b7eaad6e8e0a7326941674"
   }
  }
 },
 "nbformat": 4,
 "nbformat_minor": 2
}
